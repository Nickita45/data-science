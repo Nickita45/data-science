{
 "cells": [
  {
   "cell_type": "code",
   "execution_count": 1,
   "metadata": {
    "collapsed": true
   },
   "outputs": [],
   "source": [
    "%matplotlib inline\n",
    "import matplotlib.pyplot as plt\n",
    "import numpy as np"
   ]
  },
  {
   "cell_type": "code",
   "execution_count": 2,
   "metadata": {
    "collapsed": true
   },
   "outputs": [],
   "source": [
    "data = np.random.randn(1000)"
   ]
  },
  {
   "cell_type": "code",
   "execution_count": 4,
   "metadata": {},
   "outputs": [
    {
     "data": {
      "text/plain": [
       "(array([   5.,   14.,   73.,  145.,  230.,  240.,  164.,   88.,   31.,   10.]),\n",
       " array([-3.23089934, -2.60824166, -1.98558398, -1.3629263 , -0.74026863,\n",
       "        -0.11761095,  0.50504673,  1.12770441,  1.75036209,  2.37301977,\n",
       "         2.99567745]),\n",
       " <a list of 10 Patch objects>)"
      ]
     },
     "execution_count": 4,
     "metadata": {},
     "output_type": "execute_result"
    },
    {
     "data": {
      "image/png": "[encoded data removed]",
      "text/plain": [
       "<matplotlib.figure.Figure at 0x2392ba85898>"
      ]
     },
     "metadata": {},
     "output_type": "display_data"
    }
   ],
   "source": [
    "plt.hist(data)"
   ]
  },
  {
   "cell_type": "code",
   "execution_count": 6,
   "metadata": {},
   "outputs": [
    {
     "data": {
      "text/plain": [
       "(array([  1.,   1.,   3.,   4.,   5.,   5.,  17.,  22.,  34.,  38.,  43.,\n",
       "         64.,  64.,  79.,  87.,  73.,  79.,  88.,  73.,  50.,  41.,  35.,\n",
       "         22.,  31.,  18.,   7.,   6.,   5.,   2.,   3.]),\n",
       " array([-3.23089934, -3.02334678, -2.81579422, -2.60824166, -2.4006891 ,\n",
       "        -2.19313654, -1.98558398, -1.77803142, -1.57047886, -1.3629263 ,\n",
       "        -1.15537374, -0.94782118, -0.74026863, -0.53271607, -0.32516351,\n",
       "        -0.11761095,  0.08994161,  0.29749417,  0.50504673,  0.71259929,\n",
       "         0.92015185,  1.12770441,  1.33525697,  1.54280953,  1.75036209,\n",
       "         1.95791465,  2.16546721,  2.37301977,  2.58057233,  2.78812489,\n",
       "         2.99567745]),\n",
       " <a list of 30 Patch objects>)"
      ]
     },
     "execution_count": 6,
     "metadata": {},
     "output_type": "execute_result"
    },
    {
     "data": {
      "image/png": "[encoded data removed]",
      "text/plain": [
       "<matplotlib.figure.Figure at 0x2392bd7c438>"
      ]
     },
     "metadata": {},
     "output_type": "display_data"
    }
   ],
   "source": [
    "plt.hist(data, bins=30, alpha=0.3,color='red')"
   ]
  },
  {
   "cell_type": "code",
   "execution_count": 9,
   "metadata": {},
   "outputs": [
    {
     "data": {
      "text/plain": [
       "(array([  2.,   0.,   0.,   1.,   0.,   0.,   3.,   8.,   6.,  13.,  11.,\n",
       "         18.,  25.,  34.,  32.,  38.,  45.,  62.,  64.,  65.,  62.,  54.,\n",
       "         67.,  70.,  53.,  49.,  51.,  56.,  33.,  21.,  12.,  19.,  15.,\n",
       "          3.,   4.,   2.,   0.,   1.,   0.,   1.]),\n",
       " array([-3.9172731 , -3.58586361, -3.25445411, -2.92304462, -2.59163513,\n",
       "        -2.26022564, -1.92881614, -1.59740665, -1.26599716, -0.93458767,\n",
       "        -0.60317817, -0.27176868,  0.05964081,  0.3910503 ,  0.72245979,\n",
       "         1.05386929,  1.38527878,  1.71668827,  2.04809776,  2.37950726,\n",
       "         2.71091675,  3.04232624,  3.37373573,  3.70514523,  4.03655472,\n",
       "         4.36796421,  4.6993737 ,  5.0307832 ,  5.36219269,  5.69360218,\n",
       "         6.02501167,  6.35642117,  6.68783066,  7.01924015,  7.35064964,\n",
       "         7.68205914,  8.01346863,  8.34487812,  8.67628761,  9.0076971 ,\n",
       "         9.3391066 ]),\n",
       " <a list of 40 Patch objects>)"
      ]
     },
     "execution_count": 9,
     "metadata": {},
     "output_type": "execute_result"
    },
    {
     "data": {
      "image/png": "[encoded data removed]",
      "text/plain": [
       "<matplotlib.figure.Figure at 0x2392d0a9550>"
      ]
     },
     "metadata": {},
     "output_type": "display_data"
    }
   ],
   "source": [
    "x1 = np.random.normal(0,0.8, 1000)\n",
    "x2 = np.random.normal(-2,1,1000)\n",
    "x3 = np.random.normal(3, 2, 1000)\n",
    "\n",
    "argdict = dict(alpha=0.3, bins=40)\n",
    "\n",
    "plt.hist(x1, **argdict, color='red')\n",
    "plt.hist(x2, **argdict, color='yellow')\n",
    "plt.hist(x3, **argdict)\n"
   ]
  },
  {
   "cell_type": "code",
   "execution_count": null,
   "metadata": {
    "collapsed": true
   },
   "outputs": [],
   "source": []
  }
 ],
 "metadata": {
  "kernelspec": {
   "display_name": "Python 3",
   "language": "python",
   "name": "python3"
  },
  "language_info": {
   "codemirror_mode": {
    "name": "ipython",
    "version": 3
   },
   "file_extension": ".py",
   "mimetype": "text/x-python",
   "name": "python",
   "nbconvert_exporter": "python",
   "pygments_lexer": "ipython3",
   "version": "3.5.0"
  }
 },
 "nbformat": 4,
 "nbformat_minor": 2
}
