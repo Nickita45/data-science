{
 "cells": [
  {
   "cell_type": "code",
   "execution_count": 1,
   "metadata": {
    "collapsed": true
   },
   "outputs": [],
   "source": [
    "import pandas as pd"
   ]
  },
  {
   "cell_type": "code",
   "execution_count": 26,
   "metadata": {},
   "outputs": [],
   "source": [
    "data = pd.read_excel('datasets\\MHRD\\Gross_enroll_ratio_all_students.xlsx',header=[0,1])"
   ]
  },
  {
   "cell_type": "code",
   "execution_count": 31,
   "metadata": {},
   "outputs": [],
   "source": [
    "index = data.columns"
   ]
  },
  {
   "cell_type": "code",
   "execution_count": 35,
   "metadata": {},
   "outputs": [
    {
     "ename": "TypeError",
     "evalue": "'FrozenList' does not support mutable operations.",
     "output_type": "error",
     "traceback": [
      "\u001b[1;31m-----------------------------------------------------------------------\u001b[0m",
      "\u001b[1;31mTypeError\u001b[0m                             Traceback (most recent call last)",
      "\u001b[1;32m<ipython-input-35-b78ac9e36f45>\u001b[0m in \u001b[0;36m<module>\u001b[1;34m()\u001b[0m\n\u001b[0;32m      1\u001b[0m index.levels[0] = pd.Index(['Elementary(I-VIII)6-13 Years', 'Primary( I-V)6-10 Years',\n\u001b[0;32m      2\u001b[0m        'Upper primary(VI-VIII)11-13 Years'],\n\u001b[1;32m----> 3\u001b[1;33m       dtype='object', name='Level/   Year')\n\u001b[0m",
      "\u001b[1;32mC:\\Users\\ZekeLabs\\Anaconda3\\lib\\site-packages\\pandas\\core\\base.py\u001b[0m in \u001b[0;36m_disabled\u001b[1;34m(self, *args, **kwargs)\u001b[0m\n\u001b[0;32m    745\u001b[0m         \u001b[1;34m\"\"\"This method will not function because object is immutable.\"\"\"\u001b[0m\u001b[1;33m\u001b[0m\u001b[0m\n\u001b[0;32m    746\u001b[0m         raise TypeError(\"'%s' does not support mutable operations.\" %\n\u001b[1;32m--> 747\u001b[1;33m                         self.__class__.__name__)\n\u001b[0m\u001b[0;32m    748\u001b[0m \u001b[1;33m\u001b[0m\u001b[0m\n\u001b[0;32m    749\u001b[0m     \u001b[1;32mdef\u001b[0m \u001b[0m__unicode__\u001b[0m\u001b[1;33m(\u001b[0m\u001b[0mself\u001b[0m\u001b[1;33m)\u001b[0m\u001b[1;33m:\u001b[0m\u001b[1;33m\u001b[0m\u001b[0m\n",
      "\u001b[1;31mTypeError\u001b[0m: 'FrozenList' does not support mutable operations."
     ]
    }
   ],
   "source": [
    "index.levels[0] = pd.Index(['Elementary(I-VIII)6-13 Years', 'Primary( I-V)6-10 Years',\n",
    "       'Upper primary(VI-VIII)11-13 Years'],\n",
    "      dtype='object', name='Level/   Year')"
   ]
  },
  {
   "cell_type": "code",
   "execution_count": 8,
   "metadata": {},
   "outputs": [],
   "source": [
    "datat = data.T"
   ]
  },
  {
   "cell_type": "code",
   "execution_count": 12,
   "metadata": {},
   "outputs": [],
   "source": [
    "data_clean = datat.drop(datat.columns[[-1,-2]],axis=1)"
   ]
  },
  {
   "cell_type": "code",
   "execution_count": 13,
   "metadata": {
    "collapsed": true
   },
   "outputs": [],
   "source": [
    "data_clean.to_csv('datasets\\MHRD\\Gross_enroll_ratio_all_students.csv')"
   ]
  },
  {
   "cell_type": "code",
   "execution_count": 15,
   "metadata": {},
   "outputs": [],
   "source": [
    "data = pd.read_csv('datasets\\MHRD\\Gross_enroll_ratio_all_students.csv')"
   ]
  },
  {
   "cell_type": "code",
   "execution_count": 16,
   "metadata": {},
   "outputs": [
    {
     "data": {
      "text/plain": [
       "Index(['Level/   Year', 'Unnamed: 1', '1950-51', '1960-61', '1970-71',\n",
       "       '1980-81', '1990-91', '2000-01', '2005-06', '2006-07', '2007-08',\n",
       "       '2008-09', '2009-10', '2010-11', '2011-12', '2012-13*', '2013-14*',\n",
       "       '2014-15*'],\n",
       "      dtype='object')"
      ]
     },
     "execution_count": 16,
     "metadata": {},
     "output_type": "execute_result"
    }
   ],
   "source": [
    "data.columns"
   ]
  },
  {
   "cell_type": "code",
   "execution_count": 18,
   "metadata": {},
   "outputs": [],
   "source": [
    "data = data.rename(index=str, columns={'Unnamed: 1':'Gender'})"
   ]
  },
  {
   "cell_type": "code",
   "execution_count": 25,
   "metadata": {},
   "outputs": [
    {
     "data": {
      "text/html": [
       "<div>\n",
       "<table border=\"1\" class=\"dataframe\">\n",
       "  <thead>\n",
       "    <tr style=\"text-align: right;\">\n",
       "      <th></th>\n",
       "      <th>Level/   Year</th>\n",
       "      <th>Gender</th>\n",
       "      <th>1950-51</th>\n",
       "      <th>1960-61</th>\n",
       "      <th>1970-71</th>\n",
       "      <th>1980-81</th>\n",
       "      <th>1990-91</th>\n",
       "      <th>2000-01</th>\n",
       "      <th>2005-06</th>\n",
       "      <th>2006-07</th>\n",
       "      <th>2007-08</th>\n",
       "      <th>2008-09</th>\n",
       "      <th>2009-10</th>\n",
       "      <th>2010-11</th>\n",
       "      <th>2011-12</th>\n",
       "      <th>2012-13*</th>\n",
       "      <th>2013-14*</th>\n",
       "      <th>2014-15*</th>\n",
       "    </tr>\n",
       "  </thead>\n",
       "  <tbody>\n",
       "    <tr>\n",
       "      <th>0</th>\n",
       "      <td>Primary\\r\\n( I-V)\\r\\n6-10 Years</td>\n",
       "      <td>Male</td>\n",
       "      <td>60.6</td>\n",
       "      <td>82.6</td>\n",
       "      <td>95.5</td>\n",
       "      <td>95.8</td>\n",
       "      <td>94.8</td>\n",
       "      <td>104.9</td>\n",
       "      <td>112.8</td>\n",
       "      <td>114.59</td>\n",
       "      <td>115.26</td>\n",
       "      <td>114.7</td>\n",
       "      <td>113.8</td>\n",
       "      <td>114.9</td>\n",
       "      <td>105.8</td>\n",
       "      <td>104.80</td>\n",
       "      <td>100.2</td>\n",
       "      <td>98.9</td>\n",
       "    </tr>\n",
       "    <tr>\n",
       "      <th>1</th>\n",
       "      <td>Primary\\r\\n( I-V)\\r\\n6-10 Years</td>\n",
       "      <td>Female</td>\n",
       "      <td>24.8</td>\n",
       "      <td>41.4</td>\n",
       "      <td>60.5</td>\n",
       "      <td>64.1</td>\n",
       "      <td>71.9</td>\n",
       "      <td>85.9</td>\n",
       "      <td>105.8</td>\n",
       "      <td>108.00</td>\n",
       "      <td>112.58</td>\n",
       "      <td>114.0</td>\n",
       "      <td>113.8</td>\n",
       "      <td>116.3</td>\n",
       "      <td>107.1</td>\n",
       "      <td>107.20</td>\n",
       "      <td>102.6</td>\n",
       "      <td>101.4</td>\n",
       "    </tr>\n",
       "    <tr>\n",
       "      <th>2</th>\n",
       "      <td>Primary\\r\\n( I-V)\\r\\n6-10 Years</td>\n",
       "      <td>Total</td>\n",
       "      <td>42.6</td>\n",
       "      <td>62.4</td>\n",
       "      <td>78.6</td>\n",
       "      <td>80.5</td>\n",
       "      <td>83.8</td>\n",
       "      <td>95.7</td>\n",
       "      <td>109.4</td>\n",
       "      <td>111.40</td>\n",
       "      <td>113.97</td>\n",
       "      <td>114.3</td>\n",
       "      <td>113.8</td>\n",
       "      <td>115.5</td>\n",
       "      <td>106.5</td>\n",
       "      <td>105.98</td>\n",
       "      <td>101.4</td>\n",
       "      <td>100.1</td>\n",
       "    </tr>\n",
       "    <tr>\n",
       "      <th>3</th>\n",
       "      <td>Upper primary\\r\\n(VI-VIII)\\r\\n11-13 Years</td>\n",
       "      <td>Male</td>\n",
       "      <td>20.6</td>\n",
       "      <td>33.2</td>\n",
       "      <td>46.5</td>\n",
       "      <td>54.3</td>\n",
       "      <td>80.1</td>\n",
       "      <td>66.7</td>\n",
       "      <td>75.2</td>\n",
       "      <td>77.59</td>\n",
       "      <td>81.48</td>\n",
       "      <td>82.7</td>\n",
       "      <td>84.3</td>\n",
       "      <td>87.5</td>\n",
       "      <td>82.5</td>\n",
       "      <td>80.60</td>\n",
       "      <td>86.3</td>\n",
       "      <td>87.7</td>\n",
       "    </tr>\n",
       "    <tr>\n",
       "      <th>4</th>\n",
       "      <td>Upper primary\\r\\n(VI-VIII)\\r\\n11-13 Years</td>\n",
       "      <td>Female</td>\n",
       "      <td>4.6</td>\n",
       "      <td>11.3</td>\n",
       "      <td>20.8</td>\n",
       "      <td>28.6</td>\n",
       "      <td>51.9</td>\n",
       "      <td>49.9</td>\n",
       "      <td>66.4</td>\n",
       "      <td>69.64</td>\n",
       "      <td>74.36</td>\n",
       "      <td>76.6</td>\n",
       "      <td>79.0</td>\n",
       "      <td>82.9</td>\n",
       "      <td>81.4</td>\n",
       "      <td>84.60</td>\n",
       "      <td>92.8</td>\n",
       "      <td>95.3</td>\n",
       "    </tr>\n",
       "    <tr>\n",
       "      <th>5</th>\n",
       "      <td>Upper primary\\r\\n(VI-VIII)\\r\\n11-13 Years</td>\n",
       "      <td>Total</td>\n",
       "      <td>12.7</td>\n",
       "      <td>22.5</td>\n",
       "      <td>33.4</td>\n",
       "      <td>41.9</td>\n",
       "      <td>66.7</td>\n",
       "      <td>58.6</td>\n",
       "      <td>71.0</td>\n",
       "      <td>73.78</td>\n",
       "      <td>78.06</td>\n",
       "      <td>79.8</td>\n",
       "      <td>81.7</td>\n",
       "      <td>85.2</td>\n",
       "      <td>82.0</td>\n",
       "      <td>82.50</td>\n",
       "      <td>89.3</td>\n",
       "      <td>91.2</td>\n",
       "    </tr>\n",
       "    <tr>\n",
       "      <th>6</th>\n",
       "      <td>Elementary\\r\\n(I-VIII)\\r\\n6-13 Years</td>\n",
       "      <td>Male</td>\n",
       "      <td>46.4</td>\n",
       "      <td>65.2</td>\n",
       "      <td>75.5</td>\n",
       "      <td>82.2</td>\n",
       "      <td>90.3</td>\n",
       "      <td>90.3</td>\n",
       "      <td>98.5</td>\n",
       "      <td>100.43</td>\n",
       "      <td>102.36</td>\n",
       "      <td>102.5</td>\n",
       "      <td>102.5</td>\n",
       "      <td>104.5</td>\n",
       "      <td>97.2</td>\n",
       "      <td>95.60</td>\n",
       "      <td>95.1</td>\n",
       "      <td>94.8</td>\n",
       "    </tr>\n",
       "    <tr>\n",
       "      <th>7</th>\n",
       "      <td>Elementary\\r\\n(I-VIII)\\r\\n6-13 Years</td>\n",
       "      <td>Female</td>\n",
       "      <td>17.7</td>\n",
       "      <td>30.9</td>\n",
       "      <td>44.4</td>\n",
       "      <td>52.1</td>\n",
       "      <td>65.9</td>\n",
       "      <td>72.4</td>\n",
       "      <td>91.0</td>\n",
       "      <td>93.47</td>\n",
       "      <td>98.02</td>\n",
       "      <td>99.6</td>\n",
       "      <td>100.4</td>\n",
       "      <td>103.3</td>\n",
       "      <td>97.6</td>\n",
       "      <td>98.60</td>\n",
       "      <td>99.1</td>\n",
       "      <td>99.2</td>\n",
       "    </tr>\n",
       "    <tr>\n",
       "      <th>8</th>\n",
       "      <td>Elementary\\r\\n(I-VIII)\\r\\n6-13 Years</td>\n",
       "      <td>Total</td>\n",
       "      <td>32.1</td>\n",
       "      <td>48.7</td>\n",
       "      <td>61.9</td>\n",
       "      <td>67.5</td>\n",
       "      <td>78.6</td>\n",
       "      <td>81.6</td>\n",
       "      <td>94.9</td>\n",
       "      <td>97.08</td>\n",
       "      <td>100.28</td>\n",
       "      <td>101.1</td>\n",
       "      <td>101.5</td>\n",
       "      <td>103.9</td>\n",
       "      <td>97.4</td>\n",
       "      <td>97.00</td>\n",
       "      <td>97.0</td>\n",
       "      <td>96.9</td>\n",
       "    </tr>\n",
       "  </tbody>\n",
       "</table>\n",
       "</div>"
      ],
      "text/plain": [
       "                               Level/   Year  Gender  1950-51  1960-61  \\\n",
       "0            Primary\\r\\n( I-V)\\r\\n6-10 Years    Male     60.6     82.6   \n",
       "1            Primary\\r\\n( I-V)\\r\\n6-10 Years  Female     24.8     41.4   \n",
       "2            Primary\\r\\n( I-V)\\r\\n6-10 Years   Total     42.6     62.4   \n",
       "3  Upper primary\\r\\n(VI-VIII)\\r\\n11-13 Years    Male     20.6     33.2   \n",
       "4  Upper primary\\r\\n(VI-VIII)\\r\\n11-13 Years  Female      4.6     11.3   \n",
       "5  Upper primary\\r\\n(VI-VIII)\\r\\n11-13 Years   Total     12.7     22.5   \n",
       "6       Elementary\\r\\n(I-VIII)\\r\\n6-13 Years    Male     46.4     65.2   \n",
       "7       Elementary\\r\\n(I-VIII)\\r\\n6-13 Years  Female     17.7     30.9   \n",
       "8       Elementary\\r\\n(I-VIII)\\r\\n6-13 Years   Total     32.1     48.7   \n",
       "\n",
       "   1970-71  1980-81  1990-91  2000-01  2005-06  2006-07  2007-08  2008-09  \\\n",
       "0     95.5     95.8     94.8    104.9    112.8   114.59   115.26    114.7   \n",
       "1     60.5     64.1     71.9     85.9    105.8   108.00   112.58    114.0   \n",
       "2     78.6     80.5     83.8     95.7    109.4   111.40   113.97    114.3   \n",
       "3     46.5     54.3     80.1     66.7     75.2    77.59    81.48     82.7   \n",
       "4     20.8     28.6     51.9     49.9     66.4    69.64    74.36     76.6   \n",
       "5     33.4     41.9     66.7     58.6     71.0    73.78    78.06     79.8   \n",
       "6     75.5     82.2     90.3     90.3     98.5   100.43   102.36    102.5   \n",
       "7     44.4     52.1     65.9     72.4     91.0    93.47    98.02     99.6   \n",
       "8     61.9     67.5     78.6     81.6     94.9    97.08   100.28    101.1   \n",
       "\n",
       "   2009-10  2010-11  2011-12  2012-13*  2013-14*  2014-15*  \n",
       "0    113.8    114.9    105.8    104.80     100.2      98.9  \n",
       "1    113.8    116.3    107.1    107.20     102.6     101.4  \n",
       "2    113.8    115.5    106.5    105.98     101.4     100.1  \n",
       "3     84.3     87.5     82.5     80.60      86.3      87.7  \n",
       "4     79.0     82.9     81.4     84.60      92.8      95.3  \n",
       "5     81.7     85.2     82.0     82.50      89.3      91.2  \n",
       "6    102.5    104.5     97.2     95.60      95.1      94.8  \n",
       "7    100.4    103.3     97.6     98.60      99.1      99.2  \n",
       "8    101.5    103.9     97.4     97.00      97.0      96.9  "
      ]
     },
     "execution_count": 25,
     "metadata": {},
     "output_type": "execute_result"
    }
   ],
   "source": [
    "data"
   ]
  },
  {
   "cell_type": "code",
   "execution_count": null,
   "metadata": {
    "collapsed": true
   },
   "outputs": [],
   "source": []
  }
 ],
 "metadata": {
  "kernelspec": {
   "display_name": "Python 3",
   "language": "python",
   "name": "python3"
  },
  "language_info": {
   "codemirror_mode": {
    "name": "ipython",
    "version": 3
   },
   "file_extension": ".py",
   "mimetype": "text/x-python",
   "name": "python",
   "nbconvert_exporter": "python",
   "pygments_lexer": "ipython3",
   "version": "3.5.0"
  }
 },
 "nbformat": 4,
 "nbformat_minor": 2
}
