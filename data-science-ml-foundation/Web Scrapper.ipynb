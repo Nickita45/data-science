{
 "cells": [
  {
   "cell_type": "code",
   "execution_count": 1,
   "metadata": {
    "collapsed": true
   },
   "outputs": [],
   "source": [
    "import requests"
   ]
  },
  {
   "cell_type": "code",
   "execution_count": 27,
   "metadata": {
    "collapsed": true
   },
   "outputs": [],
   "source": [
    "data = requests.get('http://www.timesofindia.com')"
   ]
  },
  {
   "cell_type": "code",
   "execution_count": 28,
   "metadata": {},
   "outputs": [],
   "source": [
    "from bs4 import BeautifulSoup\n",
    "#soup = BeautifulSoup(data.text,\"lxml\")"
   ]
  },
  {
   "cell_type": "code",
   "execution_count": 29,
   "metadata": {
    "collapsed": true
   },
   "outputs": [],
   "source": [
    "soup = BeautifulSoup(data.text,\"lxml\")"
   ]
  },
  {
   "cell_type": "code",
   "execution_count": 23,
   "metadata": {
    "collapsed": true
   },
   "outputs": [],
   "source": [
    "links = soup.find_all('img',src=True)"
   ]
  },
  {
   "cell_type": "code",
   "execution_count": 24,
   "metadata": {},
   "outputs": [
    {
     "name": "stdout",
     "output_type": "stream",
     "text": [
      "http://i.imgci.com/espncricinfo/redesign/ci_logo.png\n",
      "http://i.imgci.com/ipl_cdc_amity_300x40.jpg\n",
      "/db/ADVERT/3600/03632.png\n",
      "/db/ADVERT/3600/03636.gif\n",
      "http://i.imgci.com/ads/moto_poll_302x240.gif\n",
      "http://i.imgci.com/zones/ipl_pt_ad.png\n",
      "http://i.imgci.com/espncricinfo/redesign/default-thumbnail.jpg\n",
      "http://i.imgci.com/espncricinfo/redesign/default-thumbnail.jpg\n",
      "http://i.imgci.com/espncricinfo/redesign/default-thumbnail.jpg\n",
      "http://a.espncdn.com/combiner/i?img=/media/motion/2017/0419/dm_170419_COM_CRICKET_BOTHENDS_2017042017/dm_170419_COM_CRICKET_BOTHENDS_2017042017.jpg?w=300&h=168\n",
      "http://i.imgci.com/espncricinfo/redesign/default-thumbnail.jpg\n",
      "http://i.imgci.com/espncricinfo/redesign/default-thumbnail.jpg\n",
      "http://i.imgci.com/espncricinfo/redesign/default-thumbnail.jpg\n",
      "http://a.espncdn.com/combiner/i?img=/media/motion/2017/0417/dm_170417_MDA-IPL-2017-STATSGURU_20170417/dm_170417_MDA-IPL-2017-STATSGURU_20170417.jpg?w=300&h=168\n",
      "http://i.imgci.com/espncricinfo/redesign/default-thumbnail.jpg\n",
      "/db/ADVERT/1300/01399.jpg\n",
      "http://p.imgci.com/db/PICTURES/CMS/242500/242567.4.jpg?w=300&h=168\n",
      "http://i.imgci.com/espncricinfo/redesign/default-thumbnail.jpg\n",
      "http://p.imgci.com/db/PICTURES/CMS/253100/253133.4.jpg?w=300&h=168\n",
      "http://i.imgci.com/espncricinfo/redesign/default-thumbnail.jpg\n",
      "http://i.imgci.com/espncricinfo/redesign/default-thumbnail.jpg\n",
      "http://p.imgci.com/db/PICTURES/CMS/261800/261802.4.jpg?w=300&h=168\n",
      "http://i.imgci.com/espncricinfo/redesign/default-thumbnail.jpg\n",
      "http://i.imgci.com/espncricinfo/redesign/default-thumbnail.jpg\n",
      "http://i.imgci.com/espncricinfo/redesign/default-thumbnail.jpg\n",
      "http://i.imgci.com/espncricinfo/redesign/default-thumbnail.jpg\n",
      "http://a.espncdn.com/combiner/i?img=/media/motion/2017/0419/dm_170419_COM_CRICKET_BOTHENDS_2017042017/dm_170419_COM_CRICKET_BOTHENDS_2017042017.jpg?w=300&h=168\n",
      "http://i.imgci.com/espncricinfo/redesign/default-thumbnail.jpg\n",
      "http://i.imgci.com/espncricinfo/redesign/default-thumbnail.jpg\n",
      "http://i.imgci.com/espncricinfo/redesign/default-thumbnail.jpg\n",
      "http://a.espncdn.com/combiner/i?img=/media/motion/2017/0417/dm_170417_MDA-IPL-2017-STATSGURU_20170417/dm_170417_MDA-IPL-2017-STATSGURU_20170417.jpg?w=300&h=168\n",
      "http://i.imgci.com/espncricinfo/redesign/default-thumbnail.jpg\n",
      "/db/ADVERT/1300/01399.jpg\n",
      "http://a.espncdn.com/combiner/i?img=/media/motion/2017/0419/dm_170419_MDA-IPL-20170-KXMIFS-20170419/dm_170419_MDA-IPL-20170-KXMIFS-20170419.jpg?w=620&h=349\n",
      "http://a.espncdn.com/combiner/i?img=/media/motion/2017/0420/dm_170420_NA-BAN-CT-SQUAD-APR20-GLO/dm_170420_NA-BAN-CT-SQUAD-APR20-GLO.jpg?w=300&h=168\n",
      "http://a.espncdn.com/combiner/i?img=/media/motion/2017/0419/dm_170419_COM_CRICKET_BOTHENDS_2017042017/dm_170419_COM_CRICKET_BOTHENDS_2017042017.jpg?w=300&h=168\n",
      "http://a.espncdn.com/combiner/i?img=/media/motion/2017/0419/dm_170419_MDA-IPL-2017-STATSGURU-19042017/dm_170419_MDA-IPL-2017-STATSGURU-19042017.jpg?w=300&h=168\n",
      "http://a.espncdn.com/combiner/i?img=/media/motion/2017/0419/dm_170419_MDA-IPL-2017-KXMI5-20170419/dm_170419_MDA-IPL-2017-KXMI5-20170419.jpg?w=300&h=168\n",
      "http://i.imgci.com/espncricinfo/redesign/default-thumbnail.jpg\n",
      "http://i.imgci.com/espncricinfo/redesign/default-thumbnail.jpg\n",
      "http://i.imgci.com/espncricinfo/redesign/default-thumbnail.jpg\n",
      "http://i.imgci.com/espncricinfo/redesign/default-thumbnail.jpg\n",
      "http://i.imgci.com/espncricinfo/redesign/default-thumbnail.jpg\n",
      "http://i.imgci.com/espncricinfo/redesign/default-thumbnail.jpg\n",
      "http://i.imgci.com/espncricinfo/redesign/default-thumbnail.jpg\n",
      "http://i.imgci.com/espncricinfo/redesign/default-thumbnail.jpg\n",
      "http://i.imgci.com/espncricinfo/redesign/default-thumbnail.jpg\n",
      "http://i.imgci.com/espncricinfo/redesign/default-thumbnail.jpg\n",
      "http://i.imgci.com/espncricinfo/redesign/default-thumbnail.jpg\n",
      "http://i.imgci.com/espncricinfo/redesign/default-thumbnail.jpg\n",
      "http://i.imgci.com/espncricinfo/redesign/default-thumbnail.jpg\n",
      "http://i.imgci.com/espncricinfo/redesign/default-thumbnail.jpg\n",
      "http://i.imgci.com/espncricinfo/redesign/default-thumbnail.jpg\n",
      "http://i.imgci.com/espncricinfo/redesign/default-thumbnail.jpg\n",
      "http://i.imgci.com/espncricinfo/redesign/default-thumbnail.jpg\n",
      "http://i.imgci.com/espncricinfo/redesign/default-thumbnail.jpg\n",
      "http://i.imgci.com/espncricinfo/redesign/espn-family-logo_3x.png\n",
      "https://www.facebook.com/tr?id=1485530595011438&ev=NoScript\n",
      "http://b.scorecardresearch.com/p?c1=2&c2=3000005&c3=dictionary_value1&c4=dictionary_value2&c5=03&c6=dictionary_value3&c10=5-8&cv=2.0&cj=1\n"
     ]
    }
   ],
   "source": [
    "for link in links:\n",
    "    print(link[\"src\"])"
   ]
  },
  {
   "cell_type": "code",
   "execution_count": 30,
   "metadata": {
    "collapsed": true
   },
   "outputs": [],
   "source": [
    "links = soup.find_all('a',href=True)"
   ]
  },
  {
   "cell_type": "code",
   "execution_count": 36,
   "metadata": {},
   "outputs": [
    {
     "name": "stdout",
     "output_type": "stream",
     "text": [
      "http://www.cricbuzz.com/?utm_source=TOInewHP_TILwidget&utm_medium=ABtest&utm_campaign=TOInewHP\n",
      "http://www.cricbuzz.com/?utm_source=TOInewHP_TILwidget&utm_medium=ABtest&utm_campaign=TOInewHP\n",
      "http://www.cricbuzz.com/cricket-news?utm_source=TOInewHP_TILwidget&utm_medium=ABtest&utm_campaign=TOInewHP\n",
      "http://www.cricbuzz.com/cricket-match/live-scores?utm_source=TOInewHP_TILwidget&utm_medium=ABtest&utm_campaign=TOInewHP\n",
      "http://www.cricbuzz.com/cricket-schedule/series?utm_source=TOInewHP_TILwidget&utm_medium=ABtest&utm_campaign=TOInewHP\n",
      "http://www.cricbuzz.com/cricket-news/editorial?utm_source=TOInewHP_TILwidget&utm_medium=ABtest&utm_campaign=TOInewHP\n",
      "http://www.cricbuzz.com/cricket-photo-gallery?utm_source=TOInewHP_TILwidget&utm_medium=ABtest&utm_campaign=TOInewHP\n",
      "http://www.cricbuzz.com/cricket-match/live-scores?utm_source=toi&utm_medium=topnav&utm_campaign=timesinternet\n",
      "http://twitter.com/cricbuzz\n",
      "http://www.facebook.com/cricbuzz\n",
      "https://google.com/+cricbuzz\n",
      "http://www.cricbuzz.com/?utm_source=TOISports_Cricwidget&utm_medium=ABtest&utm_campaign=TOISports\n",
      "http://www.cricbuzz.com/?utm_source=TOInewHP_TILwidget&utm_medium=ABtest&utm_campaign=TOInewHP\n",
      "http://www.cricbuzz.com/?utm_source=TOInewHP_TILwidget&utm_medium=ABtest&utm_campaign=TOInewHP\n",
      "http://www.cricbuzz.com/live-cricket-scores/18142/kxip-vs-mi-22nd-match-indian-premier-league-2017?utm_source=TOInewHP_TILwidget&utm_medium=ABtest&utm_campaign=TOInewHP\n",
      "http://www.cricbuzz.com/cricket-news/94090/williamson-dhawan-help-srh-maintain-perfect-home-record?utm_source=TOInewHP_TILwidget&utm_medium=ABtest&utm_campaign=TOInewHP\n",
      "http://www.cricbuzz.com/cricket-news/94093/australian-cricket-team-mitchell-starc-chris-lynn-named-in-champions-trophy-2017-squad?utm_source=TOInewHP_TILwidget&utm_medium=ABtest&utm_campaign=TOInewHP\n",
      "http://www.cricbuzz.com/cricket-news/94079/ipl-2017s-creme-de-la-creme-so-far?utm_source=TOInewHP_TILwidget&utm_medium=ABtest&utm_campaign=TOInewHP\n",
      "http://www.cricbuzz.com/cricket-news/94088/sa-have-all-bases-covered-in-search-of-second-ct-crown?utm_source=TOInewHP_TILwidget&utm_medium=ABtest&utm_campaign=TOInewHP\n",
      "http://www.cricbuzz.com/cricket-news/94069/gayle-the-t20-colossus?utm_source=TOInewHP_TILwidget&utm_medium=ABtest&utm_campaign=TOInewHP\n",
      "http://www.cricbuzz.com/cricket-news/94091/we-are-profiting-from-a-good-auction-vvs-laxman?utm_source=TOInewHP_TILwidget&utm_medium=ABtest&utm_campaign=TOInewHP\n",
      "http://www.cricbuzz.com/cricket-news/94078/hopeful-that-ab-de-villiers-is-fit-for-match-against-kkr-vettori?utm_source=TOInewHP_TILwidget&utm_medium=ABtest&utm_campaign=TOInewHP\n",
      "http://www.cricbuzz.com/cricket-news/94092/got-my-yorkers-from-tennis-ball-cricket-thampi?utm_source=TOInewHP_TILwidget&utm_medium=ABtest&utm_campaign=TOInewHP\n",
      "http://www.cricbuzz.com/cricket-news/94096/shafiul-islam-named-in-bangladesh-cricket-team-champions-trophy-2017-squad?utm_source=TOInewHP_TILwidget&utm_medium=ABtest&utm_campaign=TOInewHP\n",
      "http://www.cricbuzz.com/cricket-news/94077/tales-from-indian-premier-league-ipl-2017-week-two-tour-diary?utm_source=TOInewHP_TILwidget&utm_medium=ABtest&utm_campaign=TOInewHP\n",
      "http://cricbuzz.com\n"
     ]
    }
   ],
   "source": [
    "for link in links:\n",
    "    #print(link['href'])\n",
    "    if 'cricbuzz' in link['href']:\n",
    "        print(link['href'])\n",
    "        data = requests.get(link['href'])\n",
    "        soup = BeautifulSoup(data.text,\"lxml\")"
   ]
  },
  {
   "cell_type": "code",
   "execution_count": null,
   "metadata": {
    "collapsed": true
   },
   "outputs": [],
   "source": []
  }
 ],
 "metadata": {
  "kernelspec": {
   "display_name": "Python 3",
   "language": "python",
   "name": "python3"
  },
  "language_info": {
   "codemirror_mode": {
    "name": "ipython",
    "version": 3
   },
   "file_extension": ".py",
   "mimetype": "text/x-python",
   "name": "python",
   "nbconvert_exporter": "python",
   "pygments_lexer": "ipython3",
   "version": "3.5.0"
  }
 },
 "nbformat": 4,
 "nbformat_minor": 2
}
